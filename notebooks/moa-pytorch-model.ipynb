{
 "cells": [
  {
   "cell_type": "code",
   "execution_count": 1,
   "metadata": {
    "_cell_guid": "b1076dfc-b9ad-4769-8c92-a6c4dae69d19",
    "_uuid": "8f2839f25d086af736a60e9eeb907d3b93b6e0e5",
    "execution": {
     "iopub.execute_input": "2020-09-17T11:12:06.909878Z",
     "iopub.status.busy": "2020-09-17T11:12:06.908951Z",
     "iopub.status.idle": "2020-09-17T11:12:08.903974Z",
     "shell.execute_reply": "2020-09-17T11:12:08.903216Z"
    },
    "papermill": {
     "duration": 2.015222,
     "end_time": "2020-09-17T11:12:08.904159",
     "exception": false,
     "start_time": "2020-09-17T11:12:06.888937",
     "status": "completed"
    },
    "tags": []
   },
   "outputs": [],
   "source": [
    "import numpy as np\n",
    "import pandas as pd\n",
    "import torch\n",
    "import torch.nn.functional as F\n",
    "import time\n",
    "import warnings\n",
    "\n",
    "from sklearn.compose import ColumnTransformer\n",
    "from sklearn.preprocessing import OneHotEncoder\n",
    "from sklearn.model_selection import KFold\n",
    "from torch import nn\n",
    "from torch.utils.data import DataLoader, Dataset\n",
    "from torch import optim\n",
    "\n",
    "warnings.filterwarnings(\"ignore\")"
   ]
  },
  {
   "cell_type": "code",
   "execution_count": 2,
   "metadata": {
    "_cell_guid": "79c7e3d0-c299-4dcb-8224-4455121ee9b0",
    "_uuid": "d629ff2d2480ee46fbb7e2d37f6b5fab8052498a",
    "execution": {
     "iopub.execute_input": "2020-09-17T11:12:08.931833Z",
     "iopub.status.busy": "2020-09-17T11:12:08.930685Z",
     "iopub.status.idle": "2020-09-17T11:12:08.939942Z",
     "shell.execute_reply": "2020-09-17T11:12:08.939240Z"
    },
    "papermill": {
     "duration": 0.025406,
     "end_time": "2020-09-17T11:12:08.940088",
     "exception": false,
     "start_time": "2020-09-17T11:12:08.914682",
     "status": "completed"
    },
    "tags": []
   },
   "outputs": [
    {
     "data": {
      "text/plain": [
       "<torch._C.Generator at 0x7fd43c059c90>"
      ]
     },
     "execution_count": 2,
     "metadata": {},
     "output_type": "execute_result"
    }
   ],
   "source": [
    "SEED = 22\n",
    "NFOLDS = 5\n",
    "\n",
    "np.random.seed(SEED)\n",
    "torch.manual_seed(SEED)"
   ]
  },
  {
   "cell_type": "code",
   "execution_count": 3,
   "metadata": {
    "execution": {
     "iopub.execute_input": "2020-09-17T11:12:08.971596Z",
     "iopub.status.busy": "2020-09-17T11:12:08.970615Z",
     "iopub.status.idle": "2020-09-17T11:12:15.025884Z",
     "shell.execute_reply": "2020-09-17T11:12:15.025037Z"
    },
    "papermill": {
     "duration": 6.074981,
     "end_time": "2020-09-17T11:12:15.026040",
     "exception": false,
     "start_time": "2020-09-17T11:12:08.951059",
     "status": "completed"
    },
    "tags": []
   },
   "outputs": [],
   "source": [
    "train = pd.read_csv(\"../input/lish-moa/train_features.csv\")\n",
    "targets = pd.read_csv(\"../input/lish-moa/train_targets_scored.csv\")\n",
    "test = pd.read_csv(\"../input/lish-moa/test_features.csv\")\n",
    "sub = pd.read_csv(\"../input/lish-moa/sample_submission.csv\")"
   ]
  },
  {
   "cell_type": "code",
   "execution_count": 4,
   "metadata": {
    "execution": {
     "iopub.execute_input": "2020-09-17T11:12:15.076924Z",
     "iopub.status.busy": "2020-09-17T11:12:15.062508Z",
     "iopub.status.idle": "2020-09-17T11:12:15.356475Z",
     "shell.execute_reply": "2020-09-17T11:12:15.357091Z"
    },
    "papermill": {
     "duration": 0.319858,
     "end_time": "2020-09-17T11:12:15.357277",
     "exception": false,
     "start_time": "2020-09-17T11:12:15.037419",
     "status": "completed"
    },
    "tags": []
   },
   "outputs": [],
   "source": [
    "def encode(df):\n",
    "    df[[\"cp_type\", \"cp_dose\"]] = df[[\"cp_type\", \"cp_dose\"]].replace([\n",
    "        \"trt_cp\", \"ctl_vehicle\", \"D1\", \"D2\"], [0, 1, 0, 1])\n",
    "    return df\n",
    "\n",
    "train = encode(train)\n",
    "test = encode(test)\n",
    "\n",
    "X = train.iloc[:, 1:].to_numpy()\n",
    "X_test = test.iloc[:, 1:].to_numpy()\n",
    "y = targets.iloc[:, 1:].to_numpy()"
   ]
  },
  {
   "cell_type": "code",
   "execution_count": 5,
   "metadata": {
    "execution": {
     "iopub.execute_input": "2020-09-17T11:12:15.385447Z",
     "iopub.status.busy": "2020-09-17T11:12:15.384492Z",
     "iopub.status.idle": "2020-09-17T11:12:15.387052Z",
     "shell.execute_reply": "2020-09-17T11:12:15.387686Z"
    },
    "papermill": {
     "duration": 0.019541,
     "end_time": "2020-09-17T11:12:15.387838",
     "exception": false,
     "start_time": "2020-09-17T11:12:15.368297",
     "status": "completed"
    },
    "tags": []
   },
   "outputs": [],
   "source": [
    "INPUT_FEATURES = X.shape[1]\n",
    "OUTPUT_FEATURES = y.shape[1]"
   ]
  },
  {
   "cell_type": "code",
   "execution_count": 6,
   "metadata": {
    "execution": {
     "iopub.execute_input": "2020-09-17T11:12:15.419301Z",
     "iopub.status.busy": "2020-09-17T11:12:15.418484Z",
     "iopub.status.idle": "2020-09-17T11:12:15.421915Z",
     "shell.execute_reply": "2020-09-17T11:12:15.421337Z"
    },
    "papermill": {
     "duration": 0.022689,
     "end_time": "2020-09-17T11:12:15.422075",
     "exception": false,
     "start_time": "2020-09-17T11:12:15.399386",
     "status": "completed"
    },
    "tags": []
   },
   "outputs": [],
   "source": [
    "class MoaDataset(Dataset):\n",
    "    def __init__(self, X, y=None):\n",
    "        self.X = X\n",
    "        self.y = y\n",
    "        \n",
    "    def __getitem__(self, idx):\n",
    "        return torch.FloatTensor(self.X[idx]), torch.FloatTensor(self.y[idx])\n",
    "    \n",
    "    def __len__(self):\n",
    "        return len(self.X)"
   ]
  },
  {
   "cell_type": "code",
   "execution_count": 7,
   "metadata": {
    "execution": {
     "iopub.execute_input": "2020-09-17T11:12:15.451250Z",
     "iopub.status.busy": "2020-09-17T11:12:15.450374Z",
     "iopub.status.idle": "2020-09-17T11:12:15.454084Z",
     "shell.execute_reply": "2020-09-17T11:12:15.453316Z"
    },
    "papermill": {
     "duration": 0.020626,
     "end_time": "2020-09-17T11:12:15.454209",
     "exception": false,
     "start_time": "2020-09-17T11:12:15.433583",
     "status": "completed"
    },
    "tags": []
   },
   "outputs": [],
   "source": [
    "X = MoaDataset(X, y)\n",
    "# X_test = MoaDataset(X_test, train_data=False)\n",
    "\n",
    "X_loader = DataLoader(X, batch_size=64, shuffle=False, num_workers=4, pin_memory=True)\n",
    "# X_test_loader = DataLoader(X_test, batch_size=64, shuffle=False, num_workers=4, pin_memory=True)"
   ]
  },
  {
   "cell_type": "code",
   "execution_count": 8,
   "metadata": {
    "execution": {
     "iopub.execute_input": "2020-09-17T11:12:15.487661Z",
     "iopub.status.busy": "2020-09-17T11:12:15.486875Z",
     "iopub.status.idle": "2020-09-17T11:12:15.490485Z",
     "shell.execute_reply": "2020-09-17T11:12:15.489745Z"
    },
    "papermill": {
     "duration": 0.024969,
     "end_time": "2020-09-17T11:12:15.490611",
     "exception": false,
     "start_time": "2020-09-17T11:12:15.465642",
     "status": "completed"
    },
    "tags": []
   },
   "outputs": [],
   "source": [
    "class MoaModel(nn.Module):\n",
    "    def __init__(self):\n",
    "        super().__init__()\n",
    "        \n",
    "        self.model = nn.Sequential(\n",
    "            nn.Linear(INPUT_FEATURES, 512),\n",
    "            nn.BatchNorm1d(512),\n",
    "            nn.ReLU(),\n",
    "            \n",
    "            nn.Linear(512, 1024),\n",
    "            nn.BatchNorm1d(1024),\n",
    "            nn.ReLU(),\n",
    "            \n",
    "            nn.Linear(1024, OUTPUT_FEATURES),\n",
    "            \n",
    "            nn.Flatten(),\n",
    "            nn.Sigmoid()\n",
    "        )\n",
    "    \n",
    "    def forward(self, x):\n",
    "        output = self.model(x)\n",
    "        return output"
   ]
  },
  {
   "cell_type": "code",
   "execution_count": 9,
   "metadata": {
    "execution": {
     "iopub.execute_input": "2020-09-17T11:12:15.524105Z",
     "iopub.status.busy": "2020-09-17T11:12:15.523045Z",
     "iopub.status.idle": "2020-09-17T11:13:26.334932Z",
     "shell.execute_reply": "2020-09-17T11:13:26.335865Z"
    },
    "papermill": {
     "duration": 70.833909,
     "end_time": "2020-09-17T11:13:26.336129",
     "exception": false,
     "start_time": "2020-09-17T11:12:15.502220",
     "status": "completed"
    },
    "tags": []
   },
   "outputs": [
    {
     "name": "stdout",
     "output_type": "stream",
     "text": [
      "Epoch: 1, Loss: 0.014184613712131977, avg loss: 0.02464403728667357\n",
      "Epoch: 2, Loss: 0.0051403590478003025, avg loss: 0.015277753532901606\n",
      "Epoch: 3, Loss: 0.0014829108258709311, avg loss: 0.013428877735443054\n",
      "Epoch: 4, Loss: 0.0008213979308493435, avg loss: 0.011508861382650436\n",
      "Epoch: 5, Loss: 0.0006249843281693757, avg loss: 0.009403806213001114\n"
     ]
    }
   ],
   "source": [
    "EPOCHS = 5\n",
    "\n",
    "model = MoaModel()\n",
    "criterion = nn.BCELoss()\n",
    "optimizer = optim.Adam(model.parameters(), lr=1e-3)\n",
    "\n",
    "for epoch in range(EPOCHS):\n",
    "    losses = []\n",
    "    \n",
    "    for i, data in enumerate(X_loader, 0):\n",
    "        inputs, labels = data\n",
    "        \n",
    "        optimizer.zero_grad()\n",
    "        \n",
    "        outputs = model(inputs)\n",
    "        loss = criterion(outputs, labels)\n",
    "        loss.backward()\n",
    "        optimizer.step()\n",
    "        \n",
    "        losses.append(loss.item())\n",
    "    print(f\"Epoch: {epoch+1}, Loss: {loss.item()}, avg loss: {np.mean(losses)}\")"
   ]
  },
  {
   "cell_type": "code",
   "execution_count": 10,
   "metadata": {
    "execution": {
     "iopub.execute_input": "2020-09-17T11:13:26.391778Z",
     "iopub.status.busy": "2020-09-17T11:13:26.390638Z",
     "iopub.status.idle": "2020-09-17T11:13:26.890548Z",
     "shell.execute_reply": "2020-09-17T11:13:26.889369Z"
    },
    "papermill": {
     "duration": 0.533316,
     "end_time": "2020-09-17T11:13:26.890785",
     "exception": false,
     "start_time": "2020-09-17T11:13:26.357469",
     "status": "completed"
    },
    "tags": []
   },
   "outputs": [],
   "source": [
    "model.eval()\n",
    "\n",
    "X_test_preds = torch.from_numpy(X_test).float()\n",
    "X_test_loader = DataLoader(X_test_preds, batch_size=64, num_workers=4, pin_memory=True)\n",
    "preds = torch.FloatTensor()\n",
    "with torch.no_grad():\n",
    "    for i, test_data in enumerate(X_test_loader):\n",
    "        output = model(test_data)\n",
    "    \n",
    "        preds = torch.cat((preds, output), dim=0)"
   ]
  },
  {
   "cell_type": "code",
   "execution_count": 11,
   "metadata": {
    "execution": {
     "iopub.execute_input": "2020-09-17T11:13:26.939415Z",
     "iopub.status.busy": "2020-09-17T11:13:26.938298Z",
     "iopub.status.idle": "2020-09-17T11:13:30.068800Z",
     "shell.execute_reply": "2020-09-17T11:13:30.068169Z"
    },
    "papermill": {
     "duration": 3.159284,
     "end_time": "2020-09-17T11:13:30.068934",
     "exception": false,
     "start_time": "2020-09-17T11:13:26.909650",
     "status": "completed"
    },
    "tags": []
   },
   "outputs": [],
   "source": [
    "sub.iloc[:, 1:] = preds.numpy()\n",
    "sub.to_csv(\"submission.csv\", index=False)"
   ]
  }
 ],
 "metadata": {
  "kernelspec": {
   "display_name": "Python 3",
   "language": "python",
   "name": "python3"
  },
  "language_info": {
   "codemirror_mode": {
    "name": "ipython",
    "version": 3
   },
   "file_extension": ".py",
   "mimetype": "text/x-python",
   "name": "python",
   "nbconvert_exporter": "python",
   "pygments_lexer": "ipython3",
   "version": "3.7.6"
  },
  "papermill": {
   "duration": 88.755009,
   "end_time": "2020-09-17T11:13:30.192031",
   "environment_variables": {},
   "exception": null,
   "input_path": "__notebook__.ipynb",
   "output_path": "__notebook__.ipynb",
   "parameters": {},
   "start_time": "2020-09-17T11:12:01.437022",
   "version": "2.1.0"
  }
 },
 "nbformat": 4,
 "nbformat_minor": 4
}
