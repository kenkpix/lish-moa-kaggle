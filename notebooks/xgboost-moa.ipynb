{
 "cells": [
  {
   "cell_type": "code",
   "execution_count": 1,
   "metadata": {
    "_cell_guid": "b1076dfc-b9ad-4769-8c92-a6c4dae69d19",
    "_uuid": "8f2839f25d086af736a60e9eeb907d3b93b6e0e5",
    "execution": {
     "iopub.execute_input": "2020-09-13T14:11:10.903037Z",
     "iopub.status.busy": "2020-09-13T14:11:10.902224Z",
     "iopub.status.idle": "2020-09-13T14:11:12.988053Z",
     "shell.execute_reply": "2020-09-13T14:11:12.986443Z"
    },
    "papermill": {
     "duration": 2.101009,
     "end_time": "2020-09-13T14:11:12.988175",
     "exception": false,
     "start_time": "2020-09-13T14:11:10.887166",
     "status": "completed"
    },
    "tags": []
   },
   "outputs": [],
   "source": [
    "import numpy as np\n",
    "import pandas as pd\n",
    "\n",
    "from xgboost import XGBClassifier\n",
    "from sklearn.model_selection import KFold\n",
    "from category_encoders import CountEncoder\n",
    "from sklearn.pipeline import Pipeline\n",
    "from sklearn.metrics import log_loss\n",
    "\n",
    "import matplotlib.pyplot as plt\n",
    "\n",
    "from sklearn.multioutput import MultiOutputClassifier\n",
    "\n",
    "import os\n",
    "import time\n",
    "import warnings\n",
    "\n",
    "warnings.filterwarnings(\"ignore\")"
   ]
  },
  {
   "cell_type": "code",
   "execution_count": 2,
   "metadata": {
    "_cell_guid": "79c7e3d0-c299-4dcb-8224-4455121ee9b0",
    "_uuid": "d629ff2d2480ee46fbb7e2d37f6b5fab8052498a",
    "execution": {
     "iopub.execute_input": "2020-09-13T14:11:13.012352Z",
     "iopub.status.busy": "2020-09-13T14:11:13.010833Z",
     "iopub.status.idle": "2020-09-13T14:11:13.013095Z",
     "shell.execute_reply": "2020-09-13T14:11:13.013647Z"
    },
    "papermill": {
     "duration": 0.016216,
     "end_time": "2020-09-13T14:11:13.013790",
     "exception": false,
     "start_time": "2020-09-13T14:11:12.997574",
     "status": "completed"
    },
    "tags": []
   },
   "outputs": [],
   "source": [
    "SEED = 22\n",
    "NFOLDS = 5\n",
    "np.random.seed(SEED)"
   ]
  },
  {
   "cell_type": "code",
   "execution_count": 3,
   "metadata": {
    "execution": {
     "iopub.execute_input": "2020-09-13T14:11:13.042138Z",
     "iopub.status.busy": "2020-09-13T14:11:13.041421Z",
     "iopub.status.idle": "2020-09-13T14:11:18.866943Z",
     "shell.execute_reply": "2020-09-13T14:11:18.866030Z"
    },
    "papermill": {
     "duration": 5.84578,
     "end_time": "2020-09-13T14:11:18.867062",
     "exception": false,
     "start_time": "2020-09-13T14:11:13.021282",
     "status": "completed"
    },
    "tags": []
   },
   "outputs": [],
   "source": [
    "train = pd.read_csv(\"../input/lish-moa/train_features.csv\")\n",
    "targets = pd.read_csv(\"../input/lish-moa/train_targets_scored.csv\")\n",
    "test = pd.read_csv(\"../input/lish-moa/test_features.csv\")\n",
    "sub = pd.read_csv(\"../input/lish-moa/sample_submission.csv\")"
   ]
  },
  {
   "cell_type": "code",
   "execution_count": 4,
   "metadata": {
    "execution": {
     "iopub.execute_input": "2020-09-13T14:11:18.942841Z",
     "iopub.status.busy": "2020-09-13T14:11:18.890047Z",
     "iopub.status.idle": "2020-09-13T14:11:20.414413Z",
     "shell.execute_reply": "2020-09-13T14:11:20.413866Z"
    },
    "papermill": {
     "duration": 1.53826,
     "end_time": "2020-09-13T14:11:20.414553",
     "exception": false,
     "start_time": "2020-09-13T14:11:18.876293",
     "status": "completed"
    },
    "tags": []
   },
   "outputs": [],
   "source": [
    "X = train.iloc[:, 1:].to_numpy()\n",
    "X_test = test.iloc[:, 1:].to_numpy()\n",
    "y = targets.iloc[:, 1:].to_numpy()"
   ]
  },
  {
   "cell_type": "code",
   "execution_count": 5,
   "metadata": {
    "execution": {
     "iopub.execute_input": "2020-09-13T14:11:20.436929Z",
     "iopub.status.busy": "2020-09-13T14:11:20.436162Z",
     "iopub.status.idle": "2020-09-13T14:11:20.440343Z",
     "shell.execute_reply": "2020-09-13T14:11:20.439776Z"
    },
    "papermill": {
     "duration": 0.017538,
     "end_time": "2020-09-13T14:11:20.440440",
     "exception": false,
     "start_time": "2020-09-13T14:11:20.422902",
     "status": "completed"
    },
    "tags": []
   },
   "outputs": [],
   "source": [
    "classifier = MultiOutputClassifier(XGBClassifier(tree_method='gpu_hist'))\n",
    "\n",
    "clf = Pipeline([(\n",
    "    \"encode\", CountEncoder(cols=[0, 2])),\n",
    "    (\"classify\", classifier)\n",
    "])"
   ]
  },
  {
   "cell_type": "code",
   "execution_count": 6,
   "metadata": {
    "execution": {
     "iopub.execute_input": "2020-09-13T14:11:20.465723Z",
     "iopub.status.busy": "2020-09-13T14:11:20.463755Z",
     "iopub.status.idle": "2020-09-13T14:11:20.466559Z",
     "shell.execute_reply": "2020-09-13T14:11:20.467052Z"
    },
    "papermill": {
     "duration": 0.018728,
     "end_time": "2020-09-13T14:11:20.467169",
     "exception": false,
     "start_time": "2020-09-13T14:11:20.448441",
     "status": "completed"
    },
    "tags": []
   },
   "outputs": [],
   "source": [
    "params = {'classify__estimator__colsample_bytree': 0.6522,\n",
    "          'classify__estimator__gamma': 3.6975,\n",
    "          'classify__estimator__learning_rate': 0.0503,\n",
    "          'classify__estimator__max_delta_step': 2.0706,\n",
    "          'classify__estimator__max_depth': 8,\n",
    "          'classify__estimator__min_child_weight': 31.5800,\n",
    "          'classify__estimator__n_estimators': 183,\n",
    "          'classify__estimator__subsample': 0.8639\n",
    "         }\n",
    "\n",
    "_ = clf.set_params(**params)"
   ]
  },
  {
   "cell_type": "code",
   "execution_count": 7,
   "metadata": {
    "execution": {
     "iopub.execute_input": "2020-09-13T14:11:20.499045Z",
     "iopub.status.busy": "2020-09-13T14:11:20.498044Z",
     "iopub.status.idle": "2020-09-13T14:36:33.603857Z",
     "shell.execute_reply": "2020-09-13T14:36:33.604751Z"
    },
    "papermill": {
     "duration": 1513.129661,
     "end_time": "2020-09-13T14:36:33.604969",
     "exception": false,
     "start_time": "2020-09-13T14:11:20.475308",
     "status": "completed"
    },
    "tags": []
   },
   "outputs": [
    {
     "name": "stdout",
     "output_type": "stream",
     "text": [
      "Starting fold:  0\n",
      "Starting fold:  1\n",
      "Starting fold:  2\n",
      "Starting fold:  3\n",
      "Starting fold:  4\n",
      "Training time: 25.21780607700348 minutes\n",
      "[0.016939544630693568, 0.017023601611208604, 0.01683115541901799, 0.016979776385080775, 0.017148126425451143]\n",
      "Mean OOF loss:  0.016984440894290416\n"
     ]
    }
   ],
   "source": [
    "oof_preds = np.zeros(y.shape)\n",
    "test_preds = np.zeros((test.shape[0], y.shape[1]))\n",
    "oof_loses = []\n",
    "kf = KFold(n_splits=NFOLDS)\n",
    "\n",
    "start = time.time()\n",
    "\n",
    "for fn, (trn_idx, val_idx) in enumerate(kf.split(X, y)):\n",
    "    print(\"Starting fold: \", fn)\n",
    "    X_train, X_val = X[trn_idx], X[val_idx]\n",
    "    y_train, y_val = y[trn_idx], y[val_idx]\n",
    "    \n",
    "    ctl_mask = X_train[:,0]=='ctl_vehicle'\n",
    "    X_train = X_train[~ctl_mask,:]\n",
    "    y_train = y_train[~ctl_mask]\n",
    "    \n",
    "    clf.fit(X_train, y_train)\n",
    "    \n",
    "    val_preds = clf.predict_proba(X_val)\n",
    "    val_preds = np.array(val_preds)[:,:,1].T\n",
    "    oof_preds[val_idx] = val_preds\n",
    "    \n",
    "    loss = log_loss(np.ravel(y_val), np.ravel(val_preds))\n",
    "    oof_loses.append(loss)\n",
    "    preds = clf.predict_proba(X_test)\n",
    "    preds = np.array(preds)[:,:,1].T\n",
    "    test_preds += preds / NFOLDS\n",
    "\n",
    "training_time = (time.time() - start) / 60    \n",
    "\n",
    "print(f\"Training time: {training_time} minutes\")\n",
    "print(oof_loses)\n",
    "print(\"Mean OOF loss: \", np.mean(oof_loses))"
   ]
  },
  {
   "cell_type": "code",
   "execution_count": 8,
   "metadata": {
    "execution": {
     "iopub.execute_input": "2020-09-13T14:36:33.669367Z",
     "iopub.status.busy": "2020-09-13T14:36:33.668498Z",
     "iopub.status.idle": "2020-09-13T14:36:33.852591Z",
     "shell.execute_reply": "2020-09-13T14:36:33.851648Z"
    },
    "papermill": {
     "duration": 0.217028,
     "end_time": "2020-09-13T14:36:33.852739",
     "exception": false,
     "start_time": "2020-09-13T14:36:33.635711",
     "status": "completed"
    },
    "tags": []
   },
   "outputs": [
    {
     "ename": "IndexError",
     "evalue": "only integers, slices (`:`), ellipsis (`...`), numpy.newaxis (`None`) and integer or boolean arrays are valid indices",
     "output_type": "error",
     "traceback": [
      "\u001b[0;31m---------------------------------------------------------------------------\u001b[0m",
      "\u001b[0;31mIndexError\u001b[0m                                Traceback (most recent call last)",
      "\u001b[0;32m<ipython-input-8-86287aa9c521>\u001b[0m in \u001b[0;36m<module>\u001b[0;34m\u001b[0m\n\u001b[0;32m----> 1\u001b[0;31m \u001b[0mcontrol_mask\u001b[0m \u001b[0;34m=\u001b[0m \u001b[0mX_test\u001b[0m\u001b[0;34m[\u001b[0m\u001b[0;34m\"cp_type\"\u001b[0m\u001b[0;34m]\u001b[0m\u001b[0;34m==\u001b[0m\u001b[0;34m'ctl_vehicle'\u001b[0m\u001b[0;34m\u001b[0m\u001b[0;34m\u001b[0m\u001b[0m\n\u001b[0m\u001b[1;32m      2\u001b[0m \u001b[0;34m\u001b[0m\u001b[0m\n\u001b[1;32m      3\u001b[0m \u001b[0mtest_preds\u001b[0m\u001b[0;34m[\u001b[0m\u001b[0mcontrol_mask\u001b[0m\u001b[0;34m]\u001b[0m \u001b[0;34m=\u001b[0m \u001b[0;36m0\u001b[0m\u001b[0;34m\u001b[0m\u001b[0;34m\u001b[0m\u001b[0m\n",
      "\u001b[0;31mIndexError\u001b[0m: only integers, slices (`:`), ellipsis (`...`), numpy.newaxis (`None`) and integer or boolean arrays are valid indices"
     ]
    }
   ],
   "source": [
    "control_mask = X_test[\"cp_type\"]=='ctl_vehicle'\n",
    "\n",
    "test_preds[control_mask] = 0"
   ]
  },
  {
   "cell_type": "code",
   "execution_count": 9,
   "metadata": {
    "execution": {
     "iopub.execute_input": "2020-09-13T14:36:33.892417Z",
     "iopub.status.busy": "2020-09-13T14:36:33.891650Z",
     "iopub.status.idle": "2020-09-13T14:36:36.426547Z",
     "shell.execute_reply": "2020-09-13T14:36:36.425902Z"
    },
    "papermill": {
     "duration": 2.557795,
     "end_time": "2020-09-13T14:36:36.426665",
     "exception": false,
     "start_time": "2020-09-13T14:36:33.868870",
     "status": "completed"
    },
    "tags": []
   },
   "outputs": [],
   "source": [
    "sub.iloc[:, 1:] = test_preds\n",
    "sub.to_csv(\"submission.csv\", index=False)"
   ]
  }
 ],
 "metadata": {
  "kernelspec": {
   "display_name": "Python 3",
   "language": "python",
   "name": "python3"
  },
  "language_info": {
   "codemirror_mode": {
    "name": "ipython",
    "version": 3
   },
   "file_extension": ".py",
   "mimetype": "text/x-python",
   "name": "python",
   "nbconvert_exporter": "python",
   "pygments_lexer": "ipython3",
   "version": "3.7.6"
  },
  "papermill": {
   "duration": 1531.323731,
   "end_time": "2020-09-13T14:36:37.787121",
   "environment_variables": {},
   "exception": null,
   "input_path": "__notebook__.ipynb",
   "output_path": "__notebook__.ipynb",
   "parameters": {},
   "start_time": "2020-09-13T14:11:06.463390",
   "version": "2.1.0"
  }
 },
 "nbformat": 4,
 "nbformat_minor": 4
}
